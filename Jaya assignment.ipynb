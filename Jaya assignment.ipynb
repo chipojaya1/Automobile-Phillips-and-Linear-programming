{
 "cells": [
  {
   "cell_type": "markdown",
   "id": "90b9158a-1574-4b61-b42d-24b24a6ac1bf",
   "metadata": {},
   "source": [
    "I, Chipo Jaya, attest that I did not receive or give any help in working on this assignment."
   ]
  },
  {
   "cell_type": "markdown",
   "id": "f67c37d0-48f0-4d20-8583-a09d1a5375c9",
   "metadata": {},
   "source": [
    "### Individual Project: Automobile Phillips"
   ]
  },
  {
   "cell_type": "raw",
   "id": "5a4899f0-507b-4e5f-abb1-aba5ccc5fa07",
   "metadata": {},
   "source": [
    "Goal: To minimize the total costs of advertising taking into account the the company's commercial reach requirements for football games and comedy shows advertisement"
   ]
  },
  {
   "cell_type": "markdown",
   "id": "7650f902-46ec-4aa0-906e-afc96d37f12b",
   "metadata": {},
   "source": [
    "This is a linear programming problem I will solve with the PuLP library"
   ]
  },
  {
   "cell_type": "markdown",
   "id": "f45a1d76-5725-4dea-9c65-b5131a5686e5",
   "metadata": {},
   "source": [
    "### The Decison Model"
   ]
  },
  {
   "cell_type": "code",
   "execution_count": 6,
   "id": "50417302-c925-40e0-84d8-4e9b4f7d2680",
   "metadata": {},
   "outputs": [
    {
     "name": "stdout",
     "output_type": "stream",
     "text": [
      "Requirement already satisfied: PrettyTable in c:\\users\\chipo\\anaconda3\\lib\\site-packages (3.11.0)\n",
      "Requirement already satisfied: wcwidth in c:\\users\\chipo\\anaconda3\\lib\\site-packages (from PrettyTable) (0.2.5)\n",
      "Requirement already satisfied: pulp in c:\\users\\chipo\\anaconda3\\lib\\site-packages (2.9.0)\n"
     ]
    }
   ],
   "source": [
    "# start with installing necessary libraries\n",
    "!pip install PrettyTable\n",
    "!pip install pulp\n",
    "\n",
    "# load the libraries\n",
    "from pulp import *\n",
    "from prettytable import PrettyTable"
   ]
  },
  {
   "cell_type": "code",
   "execution_count": 7,
   "id": "02a0a8ec-5d42-4b85-8e18-a0355c73902c",
   "metadata": {},
   "outputs": [],
   "source": [
    "# tell python to ignore warnings\n",
    "import warnings\n",
    "warnings.filterwarnings('ignore')"
   ]
  },
  {
   "cell_type": "code",
   "execution_count": 8,
   "id": "ab080f98-ad52-4455-9533-9a62db329d02",
   "metadata": {},
   "outputs": [
    {
     "data": {
      "text/html": [
       "<img src=\"https://media.springernature.com/lw685/springer-static/image/chp%3A10.1007%2F978-3-031-18300-3_1/MediaObjects/532631_1_En_1_Fig5_HTML.png\"/>"
      ],
      "text/plain": [
       "<IPython.core.display.Image object>"
      ]
     },
     "execution_count": 8,
     "metadata": {},
     "output_type": "execute_result"
    }
   ],
   "source": [
    "from IPython.display import Image\n",
    "Image(url='https://media.springernature.com/lw685/springer-static/image/chp%3A10.1007%2F978-3-031-18300-3_1/MediaObjects/532631_1_En_1_Fig5_HTML.png')"
   ]
  },
  {
   "cell_type": "markdown",
   "id": "6832a4e1-0c94-4311-9594-c54ddd93f677",
   "metadata": {},
   "source": [
    "### The function to minimize the cost is \n",
    "\n",
    "#### Cost = 110000*𝑥1 + 70000*𝑥2 \n",
    "\n",
    "##### where: \n",
    "\n",
    "𝑥1 is number of 1-minute football game ads\n",
    "\n",
    "𝑥2 is number of 1-minute comedy show ads"
   ]
  },
  {
   "cell_type": "code",
   "execution_count": 10,
   "id": "449dd065-70f8-486b-9cb4-4af0412fb093",
   "metadata": {},
   "outputs": [],
   "source": [
    "# Defining my “model” to findoptimal minimum so we use LpMinimize\n",
    "model = LpProblem(\"Minimize Costs of Automobile Phillips Ad Campaign\", LpMinimize)\n",
    "\n",
    "# assigning my two variables using the LpVariable class\n",
    "# Decision variables\n",
    "𝑥1 = LpVariable(\"Football_Ads\", lowBound=0, cat='Integer')\n",
    "𝑥2 = LpVariable(\"Comedy_Ads\", lowBound=0, cat='Integer')\n",
    "\n",
    "# Objective function: Total advertising costs\n",
    "# The objective function and constraints are added using the += operator to our model\n",
    "# The objective function is added first, then the individual constraints\n",
    "model += ((110000*𝑥1) + (70000*𝑥2))\n",
    "\n",
    "# Constraints : To reach at least 26 million men and 32 million women\n",
    "# Audience reach constraints\n",
    "model += 6*𝑥1 + 4*𝑥2 >= 26, \"Men Reach\"\n",
    "model += 3*𝑥1 + 8*𝑥2 >= 32, \"Women Reach\""
   ]
  },
  {
   "cell_type": "markdown",
   "id": "393781ac-3ceb-4ffa-8007-7ef819b15ab3",
   "metadata": {},
   "source": [
    "### Optimal Solution"
   ]
  },
  {
   "cell_type": "markdown",
   "id": "9be1ff2c-8843-44d5-823a-db2552955156",
   "metadata": {},
   "source": [
    "To suggest a policy I start by solving my model"
   ]
  },
  {
   "cell_type": "code",
   "execution_count": 17,
   "id": "d9cca046-cfe1-4269-9bdc-ee7988ead8da",
   "metadata": {},
   "outputs": [
    {
     "name": "stdout",
     "output_type": "stream",
     "text": [
      "Advertising Cost Minimization Status: Optimal\n",
      "Status: Optimal\n",
      "Number of Football Ads: 1.0\n",
      "Number of Comedy Ads: 5.0\n",
      "Minimum Total Cost: $ 460000.0\n"
     ]
    }
   ],
   "source": [
    "# Solving the LpProblem\n",
    "model.solve()\n",
    "\n",
    "# Printing the results\n",
    "# Print LP Status\n",
    "print(\"Advertising Cost Minimization Status: {}\".format(LpStatus[model.status]))\n",
    "\n",
    "# Printing the results\n",
    "print(\"Status:\", LpStatus[model.status])\n",
    "print(\"Number of Football Ads:\", value(𝑥1))\n",
    "print(\"Number of Comedy Ads:\", value(𝑥2))\n",
    "print(\"Minimum Total Cost: $\", value(model.objective))"
   ]
  },
  {
   "cell_type": "code",
   "execution_count": null,
   "id": "e5bea90e-d206-4645-80cb-cb9f46c31bd9",
   "metadata": {},
   "outputs": [],
   "source": []
  },
  {
   "cell_type": "markdown",
   "id": "e9d6be97-cf6f-425c-b062-e54c217f9457",
   "metadata": {},
   "source": [
    "The results from the model show the optimal solutions for 𝑥1 and 𝑥2."
   ]
  },
  {
   "cell_type": "markdown",
   "id": "913d9ece-b12f-46cc-944c-ac5a2b4728e8",
   "metadata": {},
   "source": [
    "##### This means that to minimize the total advertising cost, Automobile Phillips should purchase are 1 football ad and 5 comedy ads.These optimal points will result in a total cost of $460000 that will meet the advertising reach goals."
   ]
  },
  {
   "cell_type": "markdown",
   "id": "90cd6c79-8522-434f-a4d7-defa358bbfb4",
   "metadata": {},
   "source": [
    "### Cost Reduction and Model Modification"
   ]
  },
  {
   "cell_type": "code",
   "execution_count": 21,
   "id": "12cca9df-526b-46aa-a90b-617510f08515",
   "metadata": {},
   "outputs": [
    {
     "name": "stdout",
     "output_type": "stream",
     "text": [
      "\n",
      "Modified Solution:\n",
      "Modified Status: Optimal\n",
      "Number of Football Ads: 1.0\n",
      "Number of Comedy Ads: 4.0\n",
      "Minimum Total Cost: $ 390000.0\n"
     ]
    }
   ],
   "source": [
    "# After finding the total advertising cost, we modify the model with a 15% reduction target\n",
    "# To allow for this reduction, we could modify the model by:\n",
    "# Relaxing the reach constraints:\n",
    "# Reduce the minimum reach for men from 26 million * 85% = 22 million\n",
    "# Reduce the minimum reach for women from 32 million * 85% = 27 million\n",
    "\n",
    "# Modified problem with reduced budget and reach\n",
    "model_modified = LpProblem(\"Automobile_Phillips_Ad_Campaign_Modified\", LpMinimize)\n",
    "\n",
    "# Objective function for the modified model \n",
    "model_modified += 110000 * 𝑥1 + 70000 * 𝑥2, \"Total Cost\"\n",
    "\n",
    "# New budget constraint\n",
    "model_modified += 110000 * 𝑥1 + 70000 * 𝑥2 <= 518500, \"New_Budget\"\n",
    "\n",
    "# Modified reach constraints\n",
    "model_modified += 6 * 𝑥1 + 4 * 𝑥2 >= 22, \"Men_Reach\"\n",
    "model_modified += 3 * 𝑥1 + 8 * 𝑥2 >= 27, \"Women_Reach\"\n",
    "\n",
    "# Solving the modified problem\n",
    "model_modified.solve()\n",
    "\n",
    "print(\"\\nModified Solution:\")\n",
    "print(\"Modified Status:\", LpStatus[model_modified.status])\n",
    "print(\"Number of Football Ads:\", value(𝑥1))\n",
    "print(\"Number of Comedy Ads:\", value(𝑥2))\n",
    "print(\"Minimum Total Cost: $\", value(model_modified.objective))"
   ]
  },
  {
   "cell_type": "markdown",
   "id": "62b2eb5c-9dd6-45aa-a884-e835685a48be",
   "metadata": {},
   "source": [
    "If the company aims to reduce costs by 15%, we can decrease the budget by 15%. After solving the modified model, the impact on 𝑥1 and 𝑥2 is observed as follows"
   ]
  },
  {
   "cell_type": "markdown",
   "id": "812bb0b6-1768-49dd-abfc-8cf92e7a7c03",
   "metadata": {},
   "source": [
    "##### This means that to minimize the total advertising cost, Automobile Phillips should purchase are 1 football ad and 4 comedy ads. These optimal points will result in a total cost of $390000 that will meet the advertising reach goals."
   ]
  },
  {
   "cell_type": "markdown",
   "id": "9149505b-057d-4265-a39a-3723241e9631",
   "metadata": {},
   "source": [
    "## Policy implications"
   ]
  },
  {
   "cell_type": "markdown",
   "id": "c40cf868-bd0d-4165-ae98-aa35fcd71c3c",
   "metadata": {},
   "source": [
    "##### Change in Ad Mix:\n",
    "Football Ads remained the same at 1.\n",
    "\n",
    "Comedy Ads decreased from 5 to 4.\n",
    "##### Cost Reduction:\n",
    "The total cost decreased from 460000 to 390000 dollars.\n",
    "\n",
    "This is a reduction of 70000 dollars of approximately 15.2%.\n",
    "\n",
    "So we can say it aligns well with the goal of reducing costs by 15%.\n",
    "\n",
    "##### Reach Analysis for Original Solution:\n",
    "Men Reach: 6*1 + 4*5 = 26 million (meets original requirement of 26 milllion)\n",
    "\n",
    "Women Reach: 3*1 + 8*5 = 43 million (exceeds original requirement of 32 million)\n",
    "\n",
    "##### Reach Analysis for Modified Solution:\n",
    "Men Reach: 6*1 + 4*4 = 22 million (meets new requirement of 22 million)\n",
    "\n",
    "Women Reach: 3*1 + 8*4 = 35 million (exceeds new requirement of 27 million)\n",
    "\n",
    "##### Efficiency of the New Solution:\n",
    "The modified solution successfully reduced costs while still meeting the modofied reach requirements.\n",
    "\n",
    "Number of comedy ads reduced by 1, which is good enough to meet the cost reduction goal.\n",
    "\n",
    "##### Impact on Audience Reach:\n",
    "The reduction in comedy ads led to a decrease in reach for both men and women, but the new reach still satisfies the modified requirements.\n",
    "\n",
    "The women's reach remains significantly above the minimum requirement, suggesting that the ads are particularly effective at reaching the female audience.\n",
    "\n",
    "##### Strategic Implications:\n",
    "The solution suggests that comedy ads are more cost-effective for reaching the target audience, especially women.\n",
    "\n",
    "The single football ad is retained, likely due to its effectiveness in reaching the male audience."
   ]
  },
  {
   "cell_type": "markdown",
   "id": "79c8ef9a-eeaa-420e-883c-5d8d64f21d32",
   "metadata": {},
   "source": [
    "### My proposal"
   ]
  },
  {
   "cell_type": "markdown",
   "id": "a3f14564-c444-451a-a063-2d6a5632db7f",
   "metadata": {},
   "source": [
    "Automobile Phillips can maintain an effective advertising strategy with a lower budget. The company might want to consider if the extra reach for women (35 million vs. required 27 million) is beneficial or if further optimizations could be made in future campaigns."
   ]
  }
 ],
 "metadata": {
  "kernelspec": {
   "display_name": "Python 3 (ipykernel)",
   "language": "python",
   "name": "python3"
  },
  "language_info": {
   "codemirror_mode": {
    "name": "ipython",
    "version": 3
   },
   "file_extension": ".py",
   "mimetype": "text/x-python",
   "name": "python",
   "nbconvert_exporter": "python",
   "pygments_lexer": "ipython3",
   "version": "3.12.4"
  }
 },
 "nbformat": 4,
 "nbformat_minor": 5
}
